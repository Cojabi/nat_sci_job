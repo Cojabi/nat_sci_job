{
 "cells": [
  {
   "cell_type": "markdown",
   "metadata": {},
   "source": [
    "# Functions"
   ]
  },
  {
   "cell_type": "code",
   "execution_count": 1,
   "metadata": {
    "collapsed": false
   },
   "outputs": [],
   "source": [
    "def get_words(line):\n",
    "    r'''\n",
    "    This function takes a text and returns\n",
    "    a list of lowercase words. It removes all digits\n",
    "    and strips punctuation characters from the words.\n",
    "    \n",
    "    >>> get_words('Here are severall1000 words!\\n Blub')\n",
    "    ['here', 'are', 'severall', 'words', 'blub']\n",
    "    \n",
    "    >>> get_words('\"Where are they? 10 \\t 1000!?\"')\n",
    "    ['where', 'are', 'they']\n",
    "    \n",
    "    >>> get_words('\\t\\t\\t\\r\\r\\r\\n<ada> hallo12 \\r\\t\\t\\t\\t')\n",
    "    ['ada', 'hallo']\n",
    "    \n",
    "    '''\n",
    "    import re\n",
    "    line = re.sub('\\s*[\\r\\t]+','',line)\n",
    "    line = re.sub('[^a-zA-Z\\s\\'-]+','',line)\n",
    "    line = line.lower()\n",
    "    \n",
    "    words = line.split()\n",
    "    return words\n",
    "\n",
    "if __name__ == '__main__':\n",
    "    import doctest\n",
    "    doctest.testmod()"
   ]
  },
  {
   "cell_type": "markdown",
   "metadata": {},
   "source": [
    "# Data Import"
   ]
  },
  {
   "cell_type": "code",
   "execution_count": 2,
   "metadata": {
    "collapsed": false
   },
   "outputs": [],
   "source": [
    "import pandas as pd\n",
    "import json\n",
    "from collections import Counter\n",
    "\n",
    "# Columns which shall be kept from the downloaded data\n",
    "columns = ['job_title', 'employer', 'origin', 'location',\n",
    "           'salary', 'job_type', 'job_description',]\n",
    "\n",
    "# Keywords to check for in the job description. Each keyword \n",
    "# gets its own column with True and False values.\n",
    "keywords = ['python', 'java', 'perl', 'r', 'fortran', 'sql',\n",
    "            'html', 'css', 'javascript', 'c', 'c++', 'c#',\n",
    "            'bioinformatician', 'bioinformatics',\n",
    "            'researcher', 'details', 'skills', 'successful'\n",
    "            'program', 'expected', 'strong']\n",
    "\n",
    "# load nature jobs\n",
    "with open('ls_jobs/nature_jobs.json', 'r') as myfile:\n",
    "    nature_jobs = json.load(myfile)\n",
    "\n",
    "# load science jobs\n",
    "with open('ls_jobs/science_jobs.json', 'r') as myfile:\n",
    "    science_jobs = json.load(myfile)\n",
    "\n",
    "# Count words and add an orign entry to the science data\n",
    "for entry in science_jobs:\n",
    "    entry['job_description_words'] = Counter(get_words(entry['job_description']))\n",
    "    entry['origin'] = 'science'\n",
    "\n",
    "# Count words and add an orign entry to the nature data\n",
    "for entry in nature_jobs:\n",
    "    entry['job_description_words'] = Counter(get_words(entry['job_description']))\n",
    "    entry['origin'] = 'nature'\n",
    "\n",
    "# Combine the job data from science and nature\n",
    "job_data = science_jobs+nature_jobs\n",
    "\n",
    "# Add the entries for the keywords\n",
    "for entry in job_data:\n",
    "    for keyword in keywords:\n",
    "        if keyword in entry['job_description_words'].keys():\n",
    "            entry[keyword] = entry['job_description_words'][keyword]\n",
    "        else:\n",
    "            entry[keyword] = 0\n",
    "\n",
    "# Read the data into a dataframe and select the specified columns\n",
    "df = pd.DataFrame(job_data)\n",
    "df = df[columns+keywords]"
   ]
  },
  {
   "cell_type": "markdown",
   "metadata": {},
   "source": [
    "# Inspect data"
   ]
  },
  {
   "cell_type": "markdown",
   "metadata": {},
   "source": [
    "## Remove duplicates"
   ]
  },
  {
   "cell_type": "markdown",
   "metadata": {},
   "source": [
    "Here we remove duplicates by two different approaches. First we remove all rows from our pandas DataFrame which are not unique. A row is unique if there is no other row which has the same values in every column. "
   ]
  },
  {
   "cell_type": "code",
   "execution_count": 3,
   "metadata": {
    "collapsed": false
   },
   "outputs": [
    {
     "name": "stdout",
     "output_type": "stream",
     "text": [
      "36\n"
     ]
    }
   ],
   "source": [
    "print(len(df[df.duplicated()==True]))\n",
    "df = df[df.duplicated()==False]"
   ]
  },
  {
   "cell_type": "markdown",
   "metadata": {},
   "source": [
    "There are still multiple rows which have the same job_title and employer combination as one can see here."
   ]
  },
  {
   "cell_type": "code",
   "execution_count": 4,
   "metadata": {
    "collapsed": false
   },
   "outputs": [
    {
     "name": "stdout",
     "output_type": "stream",
     "text": [
      "97\n"
     ]
    }
   ],
   "source": [
    "print(len(df[df.duplicated(subset=['job_title', 'employer',\n",
    "                                   ])==True]))"
   ]
  },
  {
   "cell_type": "markdown",
   "metadata": {},
   "source": [
    "We want to exclude entries if they were just reposted or posted accidentially twice. We also want to exclude job ads which are for the same position but posted on different platforms with minor differences. Therefore we decided to use the counts of keywords which appear in the job description in addition to the job title and the employer."
   ]
  },
  {
   "cell_type": "code",
   "execution_count": 5,
   "metadata": {
    "collapsed": false
   },
   "outputs": [
    {
     "name": "stdout",
     "output_type": "stream",
     "text": [
      "51\n"
     ]
    }
   ],
   "source": [
    "print(len(df[df.duplicated(subset=['job_title', 'employer']+\n",
    "                                     keywords)==True]))\n",
    "\n",
    "df = df[df.duplicated(subset=['job_title', 'employer']+\n",
    "                              keywords)==False]"
   ]
  },
  {
   "cell_type": "markdown",
   "metadata": {},
   "source": [
    "Our DataFrame has now 3029 rows, while 1095 originate from the Science Careers and 1934 from Nature Jobs. For Science Careers only job offers from the life science were included while there was no pre selection for Nature Jobs"
   ]
  },
  {
   "cell_type": "code",
   "execution_count": 6,
   "metadata": {
    "collapsed": false
   },
   "outputs": [
    {
     "name": "stdout",
     "output_type": "stream",
     "text": [
      "3129\n",
      "1195\n",
      "1934\n"
     ]
    }
   ],
   "source": [
    "print(len(df))\n",
    "print(len(df[df['origin']=='science']))\n",
    "print(len(df[df['origin']=='nature']))"
   ]
  },
  {
   "cell_type": "code",
   "execution_count": 7,
   "metadata": {
    "collapsed": false
   },
   "outputs": [
    {
     "name": "stdout",
     "output_type": "stream",
     "text": [
      "24\n",
      "387\n"
     ]
    }
   ],
   "source": [
    "print(len(df[(df['job_type']=='Bioinformatics') |\n",
    "              (df['job_type']=='Bioinformatician')]))\n",
    "\n",
    "print(len(df[(df['bioinformatics']>0) |\n",
    "             (df['bioinformatician']>0) |\n",
    "             (df['job_type']=='Bioinformatics') |\n",
    "             (df['job_type']=='Bioinformatician')]))"
   ]
  },
  {
   "cell_type": "code",
   "execution_count": 8,
   "metadata": {
    "collapsed": false
   },
   "outputs": [
    {
     "name": "stdout",
     "output_type": "stream",
     "text": [
      "21\n"
     ]
    }
   ],
   "source": [
    "x = df[(df['bioinformatics']>0) |\n",
    "              (df['bioinformatician']>0)]\n",
    "\n",
    "print(len(x[(x['job_type']=='Bioinformatics') |\n",
    "              (x['job_type']=='Bioinformatician')]))"
   ]
  },
  {
   "cell_type": "code",
   "execution_count": null,
   "metadata": {
    "collapsed": true
   },
   "outputs": [],
   "source": []
  },
  {
   "cell_type": "code",
   "execution_count": null,
   "metadata": {
    "collapsed": true
   },
   "outputs": [],
   "source": []
  },
  {
   "cell_type": "code",
   "execution_count": null,
   "metadata": {
    "collapsed": false
   },
   "outputs": [],
   "source": []
  },
  {
   "cell_type": "code",
   "execution_count": 16,
   "metadata": {
    "collapsed": false
   },
   "outputs": [],
   "source": [
    "len(df[df.duplicated(subset=['job_description'])==True])\n",
    "\n",
    "y = df[df.duplicated(subset=['job_description'])==True]\n",
    "\n",
    "for x in y['job_description']:\n",
    "    pass\n",
    "    #print(x)\n",
    "#y"
   ]
  },
  {
   "cell_type": "code",
   "execution_count": 10,
   "metadata": {
    "collapsed": false
   },
   "outputs": [
    {
     "data": {
      "text/plain": [
       "{'Academic Dean/Dept. Head',\n",
       " 'Agricultural Science',\n",
       " 'Bioinformatics',\n",
       " 'Biology',\n",
       " 'Biotechnology',\n",
       " 'Cell Biology',\n",
       " 'Chemistry',\n",
       " 'Clinical Research',\n",
       " 'Economics/Political Science',\n",
       " 'Education',\n",
       " 'Engineering',\n",
       " 'Faculty',\n",
       " 'Full Time',\n",
       " 'Genetics',\n",
       " 'Genomics',\n",
       " 'Group Leader/Principal Investigator',\n",
       " 'Healthcare',\n",
       " 'History & Philosophy of Sci',\n",
       " 'Immunology',\n",
       " 'Lecturer/Senior Lecturer',\n",
       " 'Legal/Regulatory Affairs',\n",
       " 'Life Sciences',\n",
       " 'Manager',\n",
       " 'Manufacturing/QA/QC',\n",
       " 'Marine Science',\n",
       " 'Mathematics',\n",
       " 'Medical Doctor',\n",
       " 'Medical Engineering',\n",
       " 'Medicine',\n",
       " 'Microbiology',\n",
       " 'Molecular Biology',\n",
       " 'Neuroscience',\n",
       " 'Oceanography',\n",
       " 'Organic Chemistry',\n",
       " 'Other',\n",
       " 'Other Chemistry',\n",
       " 'Other Life Science',\n",
       " 'Pathology',\n",
       " 'Personalized Medicine',\n",
       " 'PhD Fellowship',\n",
       " 'PhD Studentship',\n",
       " 'Pharmacology',\n",
       " 'Physics',\n",
       " 'Postdoc',\n",
       " 'Postdoc Fellowship',\n",
       " 'President/CEO/Director/VP',\n",
       " 'Project Manager',\n",
       " 'Proteomics',\n",
       " 'Psychiatry/Psychology',\n",
       " 'Public Health',\n",
       " 'Regenerative Medicine',\n",
       " 'Research Scientist',\n",
       " 'Sales/Marketing',\n",
       " 'Science Policy',\n",
       " 'Senior Scientist',\n",
       " 'Staff Scientist',\n",
       " 'Student Fellowship',\n",
       " 'Technician',\n",
       " 'Toxicology',\n",
       " 'Translational Research',\n",
       " 'Vaccine Research',\n",
       " 'Virology'}"
      ]
     },
     "execution_count": 10,
     "metadata": {},
     "output_type": "execute_result"
    }
   ],
   "source": [
    "set(df[df['origin']=='science']['job_type'])"
   ]
  },
  {
   "cell_type": "code",
   "execution_count": null,
   "metadata": {
    "collapsed": false
   },
   "outputs": [],
   "source": []
  },
  {
   "cell_type": "code",
   "execution_count": null,
   "metadata": {
    "collapsed": false
   },
   "outputs": [],
   "source": []
  },
  {
   "cell_type": "code",
   "execution_count": null,
   "metadata": {
    "collapsed": false
   },
   "outputs": [],
   "source": []
  },
  {
   "cell_type": "code",
   "execution_count": null,
   "metadata": {
    "collapsed": true
   },
   "outputs": [],
   "source": []
  },
  {
   "cell_type": "code",
   "execution_count": null,
   "metadata": {
    "collapsed": true
   },
   "outputs": [],
   "source": []
  },
  {
   "cell_type": "code",
   "execution_count": 11,
   "metadata": {
    "collapsed": false
   },
   "outputs": [],
   "source": [
    "import matplotlib.pyplot as plt\n",
    "plt.style.use('ggplot')\n",
    "%matplotlib inline\n"
   ]
  },
  {
   "cell_type": "code",
   "execution_count": 12,
   "metadata": {
    "collapsed": false
   },
   "outputs": [
    {
     "data": {
      "text/plain": [
       "array(['job_title', 'employer', 'origin', 'location', 'salary', 'job_type',\n",
       "       'job_description', 'python', 'java', 'perl', 'r', 'fortran', 'sql',\n",
       "       'html', 'css', 'javascript', 'c', 'c++', 'c#', 'bioinformatician',\n",
       "       'bioinformatics', 'researcher', 'details', 'skills',\n",
       "       'successfulprogram', 'expected', 'strong'], dtype=object)"
      ]
     },
     "execution_count": 12,
     "metadata": {},
     "output_type": "execute_result"
    }
   ],
   "source": [
    "df.columns.values"
   ]
  },
  {
   "cell_type": "code",
   "execution_count": 13,
   "metadata": {
    "collapsed": false
   },
   "outputs": [
    {
     "data": {
      "text/plain": [
       "44"
      ]
     },
     "execution_count": 13,
     "metadata": {},
     "output_type": "execute_result"
    }
   ],
   "source": [
    "len(df[df.duplicated(subset=['job_title', 'employer', 'salary'])==True])"
   ]
  },
  {
   "cell_type": "code",
   "execution_count": null,
   "metadata": {
    "collapsed": true
   },
   "outputs": [],
   "source": []
  },
  {
   "cell_type": "markdown",
   "metadata": {},
   "source": [
    "# Question 1: Which programming languages are mentioned most in job ads for bioinformaticians?"
   ]
  },
  {
   "cell_type": "code",
   "execution_count": 14,
   "metadata": {
    "collapsed": false
   },
   "outputs": [
    {
     "data": {
      "text/plain": [
       "<matplotlib.axes._subplots.AxesSubplot at 0x7f27d7cfdb00>"
      ]
     },
     "execution_count": 14,
     "metadata": {},
     "output_type": "execute_result"
    },
    {
     "data": {
      "image/png": "[encoded data removed]",
      "text/plain": [
       "<matplotlib.figure.Figure at 0x7f27d7cfbd68>"
      ]
     },
     "metadata": {},
     "output_type": "display_data"
    }
   ],
   "source": [
    "bioinformatician = df.loc[df['job_type'] == 'Bioinformatician']\n",
    "bio = bioinformatician[['java', 'python', 'perl', 'r', \n",
    "                        'fortran','sql', 'javascript', 'c++', 'c', 'c#']]\n",
    "\n",
    "mentioned_bioinf = df[(df['bioinformatics']>0) |\n",
    "                      (df['bioinformatician']>0) |\n",
    "                      (df['job_type']=='Bioinformatics') |\n",
    "                      (df['job_type']=='Bioinformatician')]\n",
    "mentioned_bioinf = mentioned_bioinf[['java', 'python', 'perl', 'r', \n",
    "                        'fortran','sql', 'javascript', 'c++', 'c', 'c#']]\n",
    "\n",
    "#print(bioinformatician.ix[262][['job_description']])\n",
    "#print(bioinformatician.loc[26, 'job_description'])\n",
    "\n",
    "all_jobs = df[['java', 'python', 'perl', 'r', \n",
    "               'fortran', 'javascript', 'c++', 'c', 'c#','sql']]\n",
    "\n",
    "plotframe = pd.concat([bio.sum()/len(bio),\n",
    "                       mentioned_bioinf.sum()/len(mentioned_bioinf),\n",
    "                       all_jobs.sum()/len(all_jobs)], axis=1)\n",
    "\n",
    "plotframe.set_index(bio.sum().index)\n",
    "plotframe = plotframe.rename(index = str, columns={0:'Bioinformaticians',\n",
    "                                                   1:'Mentioned',\n",
    "                                                   2:'All'})\n",
    "plotframe.plot(kind='bar', figsize=(12, 5))"
   ]
  },
  {
   "cell_type": "code",
   "execution_count": null,
   "metadata": {
    "collapsed": false
   },
   "outputs": [],
   "source": []
  },
  {
   "cell_type": "markdown",
   "metadata": {},
   "source": [
    "# Programming in Biology"
   ]
  },
  {
   "cell_type": "markdown",
   "metadata": {},
   "source": [
    "# Which languages are mentioned together"
   ]
  },
  {
   "cell_type": "code",
   "execution_count": 15,
   "metadata": {
    "collapsed": false
   },
   "outputs": [
    {
     "data": {
      "text/plain": [
       "45"
      ]
     },
     "execution_count": 15,
     "metadata": {},
     "output_type": "execute_result"
    }
   ],
   "source": [
    "len(df[(df['java'] > 0) & (df['python'] > 0)])"
   ]
  }
 ],
 "metadata": {
  "kernelspec": {
   "display_name": "Python 3",
   "language": "python",
   "name": "python3"
  },
  "language_info": {
   "codemirror_mode": {
    "name": "ipython",
    "version": 3
   },
   "file_extension": ".py",
   "mimetype": "text/x-python",
   "name": "python",
   "nbconvert_exporter": "python",
   "pygments_lexer": "ipython3",
   "version": "3.5.2"
  }
 },
 "nbformat": 4,
 "nbformat_minor": 1
}
