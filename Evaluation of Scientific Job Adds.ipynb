{
 "cells": [
  {
   "cell_type": "markdown",
   "metadata": {},
   "source": [
    "# Functions"
   ]
  },
  {
   "cell_type": "code",
   "execution_count": 1,
   "metadata": {
    "collapsed": false
   },
   "outputs": [],
   "source": [
    "def get_words(line):\n",
    "    r'''\n",
    "    This function takes a text and returns\n",
    "    a list of lowercase words. It removes all digits\n",
    "    and strips punctuation characters from the words.\n",
    "    \n",
    "    >>> get_words('Here are severall1000 words!\\n Blub')\n",
    "    ['here', 'are', 'severall', 'words', 'blub']\n",
    "    \n",
    "    >>> get_words('\"Where are they? 10 \\t 1000!?\"')\n",
    "    ['where', 'are', 'they']\n",
    "    \n",
    "    >>> get_words('\\t\\t\\t\\r\\r\\r\\n<ada> hallo12 \\r\\t\\t\\t\\t')\n",
    "    ['ada', 'hallo']\n",
    "    \n",
    "    '''\n",
    "    import re\n",
    "    line = re.sub('\\s*[\\r\\t]+','',line)\n",
    "    line = line.lower()\n",
    "    line = re.sub('[^+#a-z\\s\\'-]+','',line)\n",
    "\n",
    "    \n",
    "    words = line.split()\n",
    "    return words\n",
    "\n",
    "if __name__ == '__main__':\n",
    "    import doctest\n",
    "    doctest.testmod()"
   ]
  },
  {
   "cell_type": "markdown",
   "metadata": {},
   "source": [
    "# Data Import"
   ]
  },
  {
   "cell_type": "code",
   "execution_count": 17,
   "metadata": {
    "collapsed": false
   },
   "outputs": [],
   "source": [
    "import pandas as pd\n",
    "import json\n",
    "from collections import Counter\n",
    "\n",
    "# Columns which shall be kept from the downloaded data\n",
    "columns = ['job_title', 'employer', 'origin', 'location',\n",
    "           'salary', 'job_type', 'job_description',]\n",
    "\n",
    "# Keywords to check for in the job description. Each keyword \n",
    "# gets its own column with True and False values.\n",
    "languages = ['python', 'java', 'perl', 'r', 'fortran', 'sql',\n",
    "             'html', 'css', 'javascript', 'c', 'c++', 'c#',\n",
    "             'bioinformatician', 'bioinformatics', 'BEL', 'git', \n",
    "             'github']\n",
    "\n",
    "#keywords for later duplicate deleting\n",
    "duplicate_pattern = ['researcher', 'details', 'skills', 'successful',\n",
    "                     'program', 'expected', 'strong']\n",
    "\n",
    "#List of programming related words, later used to check if job offer\n",
    "#is programming related / involves programming\n",
    "prog_related = ['programming', 'programing', 'code', 'coding', \n",
    "                'computational', 'programming-language', 'script',\n",
    "                'scripting', 'script-language', 'informatics'\n",
    "               ]\n",
    "\n",
    "# load nature jobs\n",
    "with open('ls_jobs/nature_jobs.json', 'r') as myfile:\n",
    "    nature_jobs = json.load(myfile)\n",
    "\n",
    "# load science jobs\n",
    "with open('ls_jobs/science_jobs.json', 'r') as myfile:\n",
    "    science_jobs = json.load(myfile)\n",
    "\n",
    "# Count words and add an orign entry to the science data\n",
    "for entry in science_jobs:\n",
    "    entry['job_description_words'] = Counter(get_words(entry['job_description']))\n",
    "    entry['origin'] = 'science'\n",
    "\n",
    "# Count words and add an orign entry to the nature data\n",
    "for entry in nature_jobs:\n",
    "    entry['job_description_words'] = Counter(get_words(entry['job_description']))\n",
    "    entry['origin'] = 'nature'\n",
    "\n",
    "# Combine the job data from science and nature\n",
    "job_data = science_jobs+nature_jobs\n",
    "\n",
    "# Add the entries for the keywords\n",
    "for entry in job_data:\n",
    "    for keyword in (languages + duplicate_pattern):\n",
    "        if keyword in entry['job_description_words'].keys():\n",
    "            entry[keyword] = entry['job_description_words'][keyword]\n",
    "        else:\n",
    "            entry[keyword] = 0\n",
    "    #check if job offer is programmin related, if so set to True\n",
    "    for prog_word in (prog_related + languages):\n",
    "        if prog_word in entry['job_description_words'].keys():\n",
    "            entry['programming_related'] = True\n",
    "            #break\n",
    "        else:\n",
    "            entry['programming_related'] = False\n",
    "            #print(entry['programming_related'])\n",
    "\n",
    "# Read the data into a dataframe and select the specified columns\n",
    "df = pd.DataFrame(job_data)\n",
    "#only keep specific columns (entries of the added lists)\n",
    "df = df[columns + ['programming_related'] + languages + duplicate_pattern]\n",
    "\n",
    "#df['successful'][:10]"
   ]
  },
  {
   "cell_type": "markdown",
   "metadata": {},
   "source": [
    "# Inspect data"
   ]
  },
  {
   "cell_type": "code",
   "execution_count": 3,
   "metadata": {
    "collapsed": false
   },
   "outputs": [
    {
     "name": "stdout",
     "output_type": "stream",
     "text": [
      "Dataset before duplicate reduction\n",
      "Total Number of job offers/entries:\n",
      "3216\n",
      "Number of job offers/entries from Science:\n",
      "1225\n",
      "Number of job offers/entries from Nature:\n",
      "1991\n"
     ]
    }
   ],
   "source": [
    "#get and print number of entries in dataset pre duplicate deletion\n",
    "print('Dataset before duplicate reduction')\n",
    "print('Total Number of job offers/entries:')\n",
    "entries_pre_del = len(df)\n",
    "print(entries_pre_del)\n",
    "print('Number of job offers/entries from Science:')\n",
    "sci_entries_pre_del = len(df[df['origin']=='science'])\n",
    "print(sci_entries_pre_del)\n",
    "print('Number of job offers/entries from Nature:')\n",
    "nat_entries_pre_del = len(df[df['origin']=='nature'])\n",
    "print(nat_entries_pre_del)"
   ]
  },
  {
   "cell_type": "code",
   "execution_count": 6,
   "metadata": {
    "collapsed": false
   },
   "outputs": [
    {
     "name": "stdout",
     "output_type": "stream",
     "text": [
      "Dataset after duplicate reduction\n",
      "Total Number of job offers/entries:\n",
      "3180\n",
      "Number of job offers/entries from Science:\n",
      "1206\n",
      "Number of job offers/entries from Nature:\n",
      "1974\n"
     ]
    }
   ],
   "source": [
    "#get and print number of entries in dataset post duplicate deletion\n",
    "print('Dataset after duplicate reduction')\n",
    "print('Total Number of job offers/entries:')\n",
    "print(len(df))\n",
    "print('Number of job offers/entries from Science:')\n",
    "print(len(df[df['origin']=='science']))\n",
    "print('Number of job offers/entries from Nature:')\n",
    "print(len(df[df['origin']=='nature']))"
   ]
  },
  {
   "cell_type": "markdown",
   "metadata": {},
   "source": [
    "## Remove duplicates"
   ]
  },
  {
   "cell_type": "markdown",
   "metadata": {},
   "source": [
    "Here we remove duplicates by two different approaches. First we remove all rows from our pandas DataFrame which are not unique. A row is unique if there is no other row which has the same values in every column. "
   ]
  },
  {
   "cell_type": "code",
   "execution_count": 4,
   "metadata": {
    "collapsed": false
   },
   "outputs": [],
   "source": [
    "#remove completly identical entries\n",
    "df[df.duplicated()==True]\n",
    "df = df[df.duplicated()==False]"
   ]
  },
  {
   "cell_type": "code",
   "execution_count": 16,
   "metadata": {
    "collapsed": false
   },
   "outputs": [],
   "source": [
    "#delete entries which seem to be duplicates \n",
    "#according ro the word occurences\n",
    "df[df.duplicated(subset=['job_title', 'employer',])==True]\n",
    "df = df[df.duplicated(subset=['job_title', 'employer',\n",
    "                           'researcher', 'details',\n",
    "                           'skills', 'successful',\n",
    "                           'program', 'expected',\n",
    "                           'strong'])==True]"
   ]
  },
  {
   "cell_type": "code",
   "execution_count": 10,
   "metadata": {
    "collapsed": false
   },
   "outputs": [
    {
     "name": "stdout",
     "output_type": "stream",
     "text": [
      "24\n",
      "387\n"
     ]
    }
   ],
   "source": [
    "\n",
    "len(df[(df['job_type']=='Bioinformatics') |\n",
    "              (df['job_type']=='Bioinformatician')]))\n",
    "\n",
    "print(len(df[(df['bioinformatics']>0) |\n",
    "             (df['bioinformatician']>0) |\n",
    "             (df['job_type']=='Bioinformatics') |\n",
    "             (df['job_type']=='Bioinformatician')]))"
   ]
  },
  {
   "cell_type": "code",
   "execution_count": 8,
   "metadata": {
    "collapsed": false
   },
   "outputs": [
    {
     "name": "stdout",
     "output_type": "stream",
     "text": [
      "21\n"
     ]
    }
   ],
   "source": [
    "x = df[(df['bioinformatics']>0) |\n",
    "       (df['bioinformatician']>0)]\n",
    "\n",
    "print(len(x[(x['job_type']=='Bioinformatics') |\n",
    "            (x['job_type']=='Bioinformatician')]))"
   ]
  },
  {
   "cell_type": "markdown",
   "metadata": {},
   "source": [
    "# Question 1: Which programming languages are mentioned most often in job ads for bioinformaticians?"
   ]
  },
  {
   "cell_type": "code",
   "execution_count": null,
   "metadata": {
    "collapsed": true
   },
   "outputs": [],
   "source": [
    "import matplotlib.pyplot as plt\n",
    "plt.style.use('ggplot')\n",
    "%matplotlib inline"
   ]
  },
  {
   "cell_type": "code",
   "execution_count": 11,
   "metadata": {
    "collapsed": false
   },
   "outputs": [
    {
     "data": {
      "image/png": "[encoded data removed]",
      "text/plain": [
       "<matplotlib.figure.Figure at 0x7f8ea2a225c0>"
      ]
     },
     "metadata": {},
     "output_type": "display_data"
    }
   ],
   "source": [
    "plot_data = df[['java', 'python', 'perl', 'r', \n",
    "               'fortran', 'javascript', 'c++', 'c', 'c#','sql']]\n",
    "\n",
    "bioinf = plot_data.loc[(df['job_type']=='Bioinformatics') |\n",
    "                                 (df['job_type'] == 'Bioinformatician')]\n",
    "\n",
    "\n",
    "mentioned_bioinf = plot_data[(df['bioinformatics']>0) |\n",
    "                             (df['bioinformatician']>0) |\n",
    "                             (df['job_type']=='Bioinformatics') |\n",
    "                             (df['job_type']=='Bioinformatician')]\n",
    "\n",
    "all_jobs = plot_data\n",
    "\n",
    "plotframe = pd.concat([bioinf.sum()/len(bioinf),\n",
    "                       mentioned_bioinf.sum()/len(mentioned_bioinf),\n",
    "                       all_jobs.sum()/len(all_jobs)], axis=1)\n",
    "\n",
    "plotframe.set_index(plot_data.sum().index)\n",
    "plotframe = plotframe.rename(index = str, columns={0:'Bioinformaticians: '+str(len(bioinf)),\n",
    "                                                   1:'Bioinf. mentioned: '+str(len(mentioned_bioinf)),\n",
    "                                                   2:'All: '+str(len(all_jobs))})\n",
    "ax = plotframe.plot(kind='bar', figsize=(12, 5))\n",
    "\n"
   ]
  },
  {
   "cell_type": "code",
   "execution_count": null,
   "metadata": {
    "collapsed": false
   },
   "outputs": [],
   "source": []
  },
  {
   "cell_type": "markdown",
   "metadata": {},
   "source": [
    "# Programming in Biology"
   ]
  },
  {
   "cell_type": "markdown",
   "metadata": {},
   "source": [
    "## How many job offers are programming related?"
   ]
  },
  {
   "cell_type": "code",
   "execution_count": null,
   "metadata": {
    "collapsed": true
   },
   "outputs": [],
   "source": [
    "data_prj = df['programming_related']\n",
    "\n",
    "prog_rel_jobs = data_prj['programming_related']"
   ]
  },
  {
   "cell_type": "markdown",
   "metadata": {},
   "source": [
    "# Which languages are mentioned together"
   ]
  },
  {
   "cell_type": "code",
   "execution_count": null,
   "metadata": {
    "collapsed": false
   },
   "outputs": [],
   "source": [
    "len(df[(df['java'] > 0) & (df['python'] > 0)])"
   ]
  }
 ],
 "metadata": {
  "kernelspec": {
   "display_name": "Python 3",
   "language": "python",
   "name": "python3"
  },
  "language_info": {
   "codemirror_mode": {
    "name": "ipython",
    "version": 3
   },
   "file_extension": ".py",
   "mimetype": "text/x-python",
   "name": "python",
   "nbconvert_exporter": "python",
   "pygments_lexer": "ipython3",
   "version": "3.5.2"
  }
 },
 "nbformat": 4,
 "nbformat_minor": 1
}
