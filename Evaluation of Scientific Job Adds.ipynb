{
 "cells": [
  {
   "cell_type": "markdown",
   "metadata": {},
   "source": [
    "# Functions"
   ]
  },
  {
   "cell_type": "code",
   "execution_count": 93,
   "metadata": {
    "collapsed": false
   },
   "outputs": [],
   "source": [
    "def get_words(line):\n",
    "    r'''\n",
    "    This function takes a text and returns\n",
    "    a list of lowercase words. It removes all digits\n",
    "    and strips punctuation characters from the words.\n",
    "    \n",
    "    >>> get_words('Here are severall1000 words!\\n Blub')\n",
    "    ['here', 'are', 'severall', 'words', 'blub']\n",
    "    \n",
    "    >>> get_words('\"Where are they? 10 \\t 1000!?\"')\n",
    "    ['where', 'are', 'they']\n",
    "    \n",
    "    >>> get_words('\\t\\t\\t\\r\\r\\r\\n<ada> hallo12 \\r\\t\\t\\t\\t')\n",
    "    ['ada', 'hallo']\n",
    "    \n",
    "    '''\n",
    "    import re\n",
    "    line = re.sub('\\s*[\\r\\t]+','',line)\n",
    "    line = re.sub('[^a-zA-Z\\s\\'-]+','',line)\n",
    "    line = line.lower()\n",
    "    \n",
    "    words = line.split()\n",
    "    return words\n",
    "\n",
    "if __name__ == '__main__':\n",
    "    import doctest\n",
    "    doctest.testmod()"
   ]
  },
  {
   "cell_type": "markdown",
   "metadata": {},
   "source": [
    "# Data Import"
   ]
  },
  {
   "cell_type": "code",
   "execution_count": 146,
   "metadata": {
    "collapsed": false
   },
   "outputs": [],
   "source": [
    "import pandas as pd\n",
    "import json\n",
    "from collections import Counter\n",
    "\n",
    "# Columns which shall be kept from the downloaded data\n",
    "columns = ['job_title', 'employer', 'origin', 'location',\n",
    "           'salary', 'job_type', 'job_description',]\n",
    "\n",
    "# Keywords to check for in the job description. Each keyword \n",
    "# gets its own column with True and False values.\n",
    "keywords = ['python', 'java', 'perl', 'r', 'fortran', 'sql',\n",
    "            'html', 'css', 'javascript', 'c', 'c++', 'c#',\n",
    "            'bioinformatician', 'bioinformatics',\n",
    "            'researcher', 'details', 'skills', 'successful'\n",
    "            'program', 'expected', 'strong']\n",
    "\n",
    "# load nature jobs\n",
    "with open('jobspiders/nature_jobs.json', 'r') as myfile:\n",
    "    nature_jobs = json.load(myfile)\n",
    "\n",
    "# load science jobs\n",
    "with open('jobspiders/science_jobs.json', 'r') as myfile:\n",
    "    science_jobs = json.load(myfile)\n",
    "\n",
    "# Count words and add an orign entry to the science data\n",
    "for entry in science_jobs:\n",
    "    entry['job_description_words'] = Counter(get_words(entry['job_description']))\n",
    "    entry['origin'] = 'science'\n",
    "\n",
    "# Count words and add an orign entry to the nature data\n",
    "for entry in nature_jobs:\n",
    "    entry['job_description_words'] = Counter(get_words(entry['job_description']))\n",
    "    entry['origin'] = 'nature'\n",
    "\n",
    "# Combine the job data from science and nature\n",
    "job_data = science_jobs+nature_jobs\n",
    "\n",
    "# Add the entries for the keywords\n",
    "for entry in job_data:\n",
    "    for keyword in keywords:\n",
    "        if keyword in entry['job_description_words'].keys():\n",
    "            entry[keyword] = entry['job_description_words'][keyword]\n",
    "        else:\n",
    "            entry[keyword] = 0\n",
    "\n",
    "# Read the data into a dataframe and select the specified columns\n",
    "df = pd.DataFrame(job_data)\n",
    "df = df[columns+keywords]"
   ]
  },
  {
   "cell_type": "markdown",
   "metadata": {},
   "source": [
    "# Inspect data"
   ]
  },
  {
   "cell_type": "code",
   "execution_count": 95,
   "metadata": {
    "collapsed": false
   },
   "outputs": [
    {
     "data": {
      "text/plain": [
       "3109"
      ]
     },
     "execution_count": 95,
     "metadata": {},
     "output_type": "execute_result"
    }
   ],
   "source": [
    "len(df)"
   ]
  },
  {
   "cell_type": "markdown",
   "metadata": {},
   "source": [
    "## Remove duplicates"
   ]
  },
  {
   "cell_type": "code",
   "execution_count": 151,
   "metadata": {
    "collapsed": false
   },
   "outputs": [
    {
     "name": "stdout",
     "output_type": "stream",
     "text": [
      "33\n"
     ]
    }
   ],
   "source": [
    "print(len(df[df.duplicated()==True]))\n",
    "df1 = df[df.duplicated()==False]"
   ]
  },
  {
   "cell_type": "markdown",
   "metadata": {},
   "source": []
  },
  {
   "cell_type": "code",
   "execution_count": 152,
   "metadata": {
    "collapsed": false
   },
   "outputs": [
    {
     "name": "stdout",
     "output_type": "stream",
     "text": [
      "90\n",
      "51\n"
     ]
    }
   ],
   "source": [
    "print(len(df1[df1.duplicated(subset=['job_title', 'employer',\n",
    "                                   ])==True]))\n",
    "print(len(df1[df1.duplicated(subset=['job_title', 'employer',\n",
    "                                   'researcher', 'details',\n",
    "                                   'skills', 'successful'\n",
    "                                   'program', 'expected',\n",
    "                                   'strong'])==True]))"
   ]
  },
  {
   "cell_type": "code",
   "execution_count": null,
   "metadata": {
    "collapsed": false
   },
   "outputs": [],
   "source": [
    "\n"
   ]
  },
  {
   "cell_type": "code",
   "execution_count": 155,
   "metadata": {
    "collapsed": false
   },
   "outputs": [
    {
     "data": {
      "text/html": [
       "<div>\n",
       "<table border=\"1\" class=\"dataframe\">\n",
       "  <thead>\n",
       "    <tr style=\"text-align: right;\">\n",
       "      <th></th>\n",
       "      <th>job_title</th>\n",
       "      <th>employer</th>\n",
       "      <th>origin</th>\n",
       "      <th>location</th>\n",
       "      <th>salary</th>\n",
       "      <th>job_type</th>\n",
       "      <th>job_description</th>\n",
       "      <th>python</th>\n",
       "      <th>java</th>\n",
       "      <th>perl</th>\n",
       "      <th>...</th>\n",
       "      <th>c++</th>\n",
       "      <th>c#</th>\n",
       "      <th>bioinformatician</th>\n",
       "      <th>bioinformatics</th>\n",
       "      <th>researcher</th>\n",
       "      <th>details</th>\n",
       "      <th>skills</th>\n",
       "      <th>successfulprogram</th>\n",
       "      <th>expected</th>\n",
       "      <th>strong</th>\n",
       "    </tr>\n",
       "  </thead>\n",
       "  <tbody>\n",
       "    <tr>\n",
       "      <th>0</th>\n",
       "      <td>2 Leading Positions at SciLifeLab</td>\n",
       "      <td>SciLifeLab</td>\n",
       "      <td>science</td>\n",
       "      <td>Uppsala, Sweden (SE)</td>\n",
       "      <td>Undisclosed</td>\n",
       "      <td>Psychiatry/Psychology</td>\n",
       "      <td>Discover the Future – 2 Leading Positions at S...</td>\n",
       "      <td>0</td>\n",
       "      <td>0</td>\n",
       "      <td>0</td>\n",
       "      <td>...</td>\n",
       "      <td>0</td>\n",
       "      <td>0</td>\n",
       "      <td>0</td>\n",
       "      <td>0</td>\n",
       "      <td>0</td>\n",
       "      <td>0</td>\n",
       "      <td>0</td>\n",
       "      <td>0</td>\n",
       "      <td>0</td>\n",
       "      <td>0</td>\n",
       "    </tr>\n",
       "    <tr>\n",
       "      <th>1</th>\n",
       "      <td>Novo Nordisk Foundation Young Investigator Awards</td>\n",
       "      <td>The Novo Nordisk Foundation</td>\n",
       "      <td>science</td>\n",
       "      <td>Denmark (DK)</td>\n",
       "      <td>-</td>\n",
       "      <td>Biotechnology</td>\n",
       "      <td>YOUNG INVESTIGATOR AWARDS\\nSUPPORTING TOMORROW...</td>\n",
       "      <td>0</td>\n",
       "      <td>0</td>\n",
       "      <td>0</td>\n",
       "      <td>...</td>\n",
       "      <td>0</td>\n",
       "      <td>0</td>\n",
       "      <td>0</td>\n",
       "      <td>0</td>\n",
       "      <td>0</td>\n",
       "      <td>0</td>\n",
       "      <td>0</td>\n",
       "      <td>0</td>\n",
       "      <td>0</td>\n",
       "      <td>0</td>\n",
       "    </tr>\n",
       "    <tr>\n",
       "      <th>2</th>\n",
       "      <td>Call for Global Talents</td>\n",
       "      <td>Nankai University</td>\n",
       "      <td>science</td>\n",
       "      <td>China (CN)</td>\n",
       "      <td>Annual salary of 400,000-1,200,000 RMB (pre-ta...</td>\n",
       "      <td>Other</td>\n",
       "      <td>Call for Global Talents\\nNational Thousand (Yo...</td>\n",
       "      <td>0</td>\n",
       "      <td>0</td>\n",
       "      <td>0</td>\n",
       "      <td>...</td>\n",
       "      <td>0</td>\n",
       "      <td>0</td>\n",
       "      <td>0</td>\n",
       "      <td>0</td>\n",
       "      <td>0</td>\n",
       "      <td>1</td>\n",
       "      <td>0</td>\n",
       "      <td>0</td>\n",
       "      <td>0</td>\n",
       "      <td>1</td>\n",
       "    </tr>\n",
       "    <tr>\n",
       "      <th>3</th>\n",
       "      <td>Mobile DNA Postdoctoral Position at the NIH</td>\n",
       "      <td>NIH-NICHD</td>\n",
       "      <td>science</td>\n",
       "      <td>NIH Campus, Bethesda, Maryland</td>\n",
       "      <td>Salary is commensurate with experience (www.tr...</td>\n",
       "      <td>Postdoc Fellowship</td>\n",
       "      <td>A postdoctoral position is available in the Se...</td>\n",
       "      <td>0</td>\n",
       "      <td>0</td>\n",
       "      <td>0</td>\n",
       "      <td>...</td>\n",
       "      <td>0</td>\n",
       "      <td>0</td>\n",
       "      <td>0</td>\n",
       "      <td>1</td>\n",
       "      <td>0</td>\n",
       "      <td>2</td>\n",
       "      <td>1</td>\n",
       "      <td>0</td>\n",
       "      <td>1</td>\n",
       "      <td>0</td>\n",
       "    </tr>\n",
       "    <tr>\n",
       "      <th>4</th>\n",
       "      <td>Communication Officer</td>\n",
       "      <td>Cluster of Excellence CellNetworks at Heidelbe...</td>\n",
       "      <td>science</td>\n",
       "      <td>Heidelberg, Baden-Württemberg (DE)</td>\n",
       "      <td>provided a two-year contract including salary ...</td>\n",
       "      <td>Organic Chemistry</td>\n",
       "      <td>Postdoctoral Positions\\r\\nNext Call Opens Spri...</td>\n",
       "      <td>0</td>\n",
       "      <td>0</td>\n",
       "      <td>0</td>\n",
       "      <td>...</td>\n",
       "      <td>0</td>\n",
       "      <td>0</td>\n",
       "      <td>0</td>\n",
       "      <td>0</td>\n",
       "      <td>0</td>\n",
       "      <td>0</td>\n",
       "      <td>0</td>\n",
       "      <td>0</td>\n",
       "      <td>0</td>\n",
       "      <td>0</td>\n",
       "    </tr>\n",
       "    <tr>\n",
       "      <th>5</th>\n",
       "      <td>Research Assistant Professor</td>\n",
       "      <td>University of Nebraska - Lincoln, Nutrition an...</td>\n",
       "      <td>science</td>\n",
       "      <td>Lincoln, Nebraska</td>\n",
       "      <td>Salary for the position is commensurate with e...</td>\n",
       "      <td>Faculty</td>\n",
       "      <td>Research Assistant Professor\\nNebraska Center ...</td>\n",
       "      <td>0</td>\n",
       "      <td>0</td>\n",
       "      <td>0</td>\n",
       "      <td>...</td>\n",
       "      <td>0</td>\n",
       "      <td>0</td>\n",
       "      <td>0</td>\n",
       "      <td>3</td>\n",
       "      <td>0</td>\n",
       "      <td>1</td>\n",
       "      <td>2</td>\n",
       "      <td>0</td>\n",
       "      <td>3</td>\n",
       "      <td>4</td>\n",
       "    </tr>\n",
       "    <tr>\n",
       "      <th>6</th>\n",
       "      <td>Admission in Fellowship and M.Phil in Regenera...</td>\n",
       "      <td>West Bengal University of Health Sciences http...</td>\n",
       "      <td>science</td>\n",
       "      <td>School of Tropical medicine, Kolkata, West Ben...</td>\n",
       "      <td>Competitive stipend is 3,37,836 Indian Rupees ...</td>\n",
       "      <td>Student Fellowship</td>\n",
       "      <td>Admission in Fellowship and M.Phil in Regenera...</td>\n",
       "      <td>0</td>\n",
       "      <td>0</td>\n",
       "      <td>0</td>\n",
       "      <td>...</td>\n",
       "      <td>0</td>\n",
       "      <td>0</td>\n",
       "      <td>0</td>\n",
       "      <td>0</td>\n",
       "      <td>0</td>\n",
       "      <td>1</td>\n",
       "      <td>1</td>\n",
       "      <td>0</td>\n",
       "      <td>1</td>\n",
       "      <td>0</td>\n",
       "    </tr>\n",
       "    <tr>\n",
       "      <th>7</th>\n",
       "      <td>Assistant, Associate, or Full Professor</td>\n",
       "      <td>University of Illinois - Chicago</td>\n",
       "      <td>science</td>\n",
       "      <td>Chicago, Illinois</td>\n",
       "      <td>Highly competitive salary and start-up package...</td>\n",
       "      <td>Other</td>\n",
       "      <td>Assistant/Associate/Full Professor –\\r\\nPhysio...</td>\n",
       "      <td>0</td>\n",
       "      <td>0</td>\n",
       "      <td>0</td>\n",
       "      <td>...</td>\n",
       "      <td>0</td>\n",
       "      <td>0</td>\n",
       "      <td>0</td>\n",
       "      <td>0</td>\n",
       "      <td>0</td>\n",
       "      <td>0</td>\n",
       "      <td>0</td>\n",
       "      <td>0</td>\n",
       "      <td>1</td>\n",
       "      <td>2</td>\n",
       "    </tr>\n",
       "    <tr>\n",
       "      <th>8</th>\n",
       "      <td>Assistant Professor Industrial and Physical Ph...</td>\n",
       "      <td>Purdue University West Lafayette</td>\n",
       "      <td>science</td>\n",
       "      <td>West Lafayetter, Indiana (US)</td>\n",
       "      <td>Undisclosed</td>\n",
       "      <td>Faculty</td>\n",
       "      <td>Faculty Opening in Industrial and Physical Pha...</td>\n",
       "      <td>0</td>\n",
       "      <td>0</td>\n",
       "      <td>0</td>\n",
       "      <td>...</td>\n",
       "      <td>0</td>\n",
       "      <td>0</td>\n",
       "      <td>0</td>\n",
       "      <td>0</td>\n",
       "      <td>0</td>\n",
       "      <td>0</td>\n",
       "      <td>0</td>\n",
       "      <td>0</td>\n",
       "      <td>2</td>\n",
       "      <td>0</td>\n",
       "    </tr>\n",
       "    <tr>\n",
       "      <th>9</th>\n",
       "      <td>Senior Research Scientist</td>\n",
       "      <td>Children's Research Institute at UTSW</td>\n",
       "      <td>science</td>\n",
       "      <td>Dallas, TX</td>\n",
       "      <td>Salary commensurate with experience.</td>\n",
       "      <td>Senior Scientist</td>\n",
       "      <td>Metabolism in stem cell biology and disease\\nC...</td>\n",
       "      <td>0</td>\n",
       "      <td>0</td>\n",
       "      <td>0</td>\n",
       "      <td>...</td>\n",
       "      <td>0</td>\n",
       "      <td>0</td>\n",
       "      <td>0</td>\n",
       "      <td>0</td>\n",
       "      <td>0</td>\n",
       "      <td>0</td>\n",
       "      <td>0</td>\n",
       "      <td>0</td>\n",
       "      <td>0</td>\n",
       "      <td>0</td>\n",
       "    </tr>\n",
       "  </tbody>\n",
       "</table>\n",
       "<p>10 rows × 27 columns</p>\n",
       "</div>"
      ],
      "text/plain": [
       "                                           job_title  \\\n",
       "0                  2 Leading Positions at SciLifeLab   \n",
       "1  Novo Nordisk Foundation Young Investigator Awards   \n",
       "2                            Call for Global Talents   \n",
       "3        Mobile DNA Postdoctoral Position at the NIH   \n",
       "4                              Communication Officer   \n",
       "5                       Research Assistant Professor   \n",
       "6  Admission in Fellowship and M.Phil in Regenera...   \n",
       "7            Assistant, Associate, or Full Professor   \n",
       "8  Assistant Professor Industrial and Physical Ph...   \n",
       "9                          Senior Research Scientist   \n",
       "\n",
       "                                            employer   origin  \\\n",
       "0                                         SciLifeLab  science   \n",
       "1                        The Novo Nordisk Foundation  science   \n",
       "2                                 Nankai University   science   \n",
       "3                                          NIH-NICHD  science   \n",
       "4  Cluster of Excellence CellNetworks at Heidelbe...  science   \n",
       "5  University of Nebraska - Lincoln, Nutrition an...  science   \n",
       "6  West Bengal University of Health Sciences http...  science   \n",
       "7                  University of Illinois - Chicago   science   \n",
       "8                   Purdue University West Lafayette  science   \n",
       "9              Children's Research Institute at UTSW  science   \n",
       "\n",
       "                                            location  \\\n",
       "0                               Uppsala, Sweden (SE)   \n",
       "1                                       Denmark (DK)   \n",
       "2                                         China (CN)   \n",
       "3                     NIH Campus, Bethesda, Maryland   \n",
       "4                 Heidelberg, Baden-Württemberg (DE)   \n",
       "5                                  Lincoln, Nebraska   \n",
       "6  School of Tropical medicine, Kolkata, West Ben...   \n",
       "7                                  Chicago, Illinois   \n",
       "8                      West Lafayetter, Indiana (US)   \n",
       "9                                         Dallas, TX   \n",
       "\n",
       "                                              salary               job_type  \\\n",
       "0                                        Undisclosed  Psychiatry/Psychology   \n",
       "1                                                  -          Biotechnology   \n",
       "2  Annual salary of 400,000-1,200,000 RMB (pre-ta...                  Other   \n",
       "3  Salary is commensurate with experience (www.tr...     Postdoc Fellowship   \n",
       "4  provided a two-year contract including salary ...      Organic Chemistry   \n",
       "5  Salary for the position is commensurate with e...                Faculty   \n",
       "6  Competitive stipend is 3,37,836 Indian Rupees ...     Student Fellowship   \n",
       "7  Highly competitive salary and start-up package...                  Other   \n",
       "8                                        Undisclosed                Faculty   \n",
       "9               Salary commensurate with experience.       Senior Scientist   \n",
       "\n",
       "                                     job_description  python  java  perl  \\\n",
       "0  Discover the Future – 2 Leading Positions at S...       0     0     0   \n",
       "1  YOUNG INVESTIGATOR AWARDS\\nSUPPORTING TOMORROW...       0     0     0   \n",
       "2  Call for Global Talents\\nNational Thousand (Yo...       0     0     0   \n",
       "3  A postdoctoral position is available in the Se...       0     0     0   \n",
       "4  Postdoctoral Positions\\r\\nNext Call Opens Spri...       0     0     0   \n",
       "5  Research Assistant Professor\\nNebraska Center ...       0     0     0   \n",
       "6  Admission in Fellowship and M.Phil in Regenera...       0     0     0   \n",
       "7  Assistant/Associate/Full Professor –\\r\\nPhysio...       0     0     0   \n",
       "8  Faculty Opening in Industrial and Physical Pha...       0     0     0   \n",
       "9  Metabolism in stem cell biology and disease\\nC...       0     0     0   \n",
       "\n",
       "    ...    c++  c#  bioinformatician  bioinformatics  researcher  details  \\\n",
       "0   ...      0   0                 0               0           0        0   \n",
       "1   ...      0   0                 0               0           0        0   \n",
       "2   ...      0   0                 0               0           0        1   \n",
       "3   ...      0   0                 0               1           0        2   \n",
       "4   ...      0   0                 0               0           0        0   \n",
       "5   ...      0   0                 0               3           0        1   \n",
       "6   ...      0   0                 0               0           0        1   \n",
       "7   ...      0   0                 0               0           0        0   \n",
       "8   ...      0   0                 0               0           0        0   \n",
       "9   ...      0   0                 0               0           0        0   \n",
       "\n",
       "   skills  successfulprogram  expected  strong  \n",
       "0       0                  0         0       0  \n",
       "1       0                  0         0       0  \n",
       "2       0                  0         0       1  \n",
       "3       1                  0         1       0  \n",
       "4       0                  0         0       0  \n",
       "5       2                  0         3       4  \n",
       "6       1                  0         1       0  \n",
       "7       0                  0         1       2  \n",
       "8       0                  0         2       0  \n",
       "9       0                  0         0       0  \n",
       "\n",
       "[10 rows x 27 columns]"
      ]
     },
     "execution_count": 155,
     "metadata": {},
     "output_type": "execute_result"
    }
   ],
   "source": [
    "df[:10]"
   ]
  },
  {
   "cell_type": "code",
   "execution_count": 97,
   "metadata": {
    "collapsed": false
   },
   "outputs": [
    {
     "data": {
      "text/plain": [
       "51"
      ]
     },
     "execution_count": 97,
     "metadata": {},
     "output_type": "execute_result"
    }
   ],
   "source": [
    "len(df[df.duplicated(subset=['job_description'])==True])"
   ]
  },
  {
   "cell_type": "code",
   "execution_count": 71,
   "metadata": {
    "collapsed": false
   },
   "outputs": [
    {
     "data": {
      "text/plain": [
       "{'Academic Dean/Dept. Head',\n",
       " 'Agricultural Science',\n",
       " 'Bioinformatics',\n",
       " 'Biology',\n",
       " 'Biotechnology',\n",
       " 'Cell Biology',\n",
       " 'Chemistry',\n",
       " 'Clinical Research',\n",
       " 'Economics/Political Science',\n",
       " 'Education',\n",
       " 'Engineering',\n",
       " 'Faculty',\n",
       " 'Full Time',\n",
       " 'Genetics',\n",
       " 'Genomics',\n",
       " 'Group Leader/Principal Investigator',\n",
       " 'Healthcare',\n",
       " 'History & Philosophy of Sci',\n",
       " 'Immunology',\n",
       " 'Lecturer/Senior Lecturer',\n",
       " 'Legal/Regulatory Affairs',\n",
       " 'Life Sciences',\n",
       " 'Manager',\n",
       " 'Manufacturing/QA/QC',\n",
       " 'Marine Science',\n",
       " 'Mathematics',\n",
       " 'Medical Doctor',\n",
       " 'Medical Engineering',\n",
       " 'Medicine',\n",
       " 'Microbiology',\n",
       " 'Molecular Biology',\n",
       " 'Neuroscience',\n",
       " 'Oceanography',\n",
       " 'Organic Chemistry',\n",
       " 'Other',\n",
       " 'Other Chemistry',\n",
       " 'Other Life Science',\n",
       " 'Pathology',\n",
       " 'Personalized Medicine',\n",
       " 'PhD Fellowship',\n",
       " 'PhD Studentship',\n",
       " 'Pharmacology',\n",
       " 'Physics',\n",
       " 'Postdoc',\n",
       " 'Postdoc Fellowship',\n",
       " 'President/CEO/Director/VP',\n",
       " 'Project Manager',\n",
       " 'Proteomics',\n",
       " 'Psychiatry/Psychology',\n",
       " 'Public Health',\n",
       " 'Regenerative Medicine',\n",
       " 'Research Scientist',\n",
       " 'Sales/Marketing',\n",
       " 'Science Policy',\n",
       " 'Senior Scientist',\n",
       " 'Staff Scientist',\n",
       " 'Student Fellowship',\n",
       " 'Technician',\n",
       " 'Toxicology',\n",
       " 'Translational Research',\n",
       " 'Vaccine Research',\n",
       " 'Virology'}"
      ]
     },
     "execution_count": 71,
     "metadata": {},
     "output_type": "execute_result"
    }
   ],
   "source": [
    "set(df[df['origin']=='science']['job_type'])"
   ]
  },
  {
   "cell_type": "code",
   "execution_count": 3,
   "metadata": {
    "collapsed": false
   },
   "outputs": [],
   "source": []
  },
  {
   "cell_type": "code",
   "execution_count": 4,
   "metadata": {
    "collapsed": false
   },
   "outputs": [],
   "source": []
  },
  {
   "cell_type": "code",
   "execution_count": null,
   "metadata": {
    "collapsed": false
   },
   "outputs": [],
   "source": []
  },
  {
   "cell_type": "code",
   "execution_count": null,
   "metadata": {
    "collapsed": true
   },
   "outputs": [],
   "source": []
  },
  {
   "cell_type": "code",
   "execution_count": null,
   "metadata": {
    "collapsed": true
   },
   "outputs": [],
   "source": []
  },
  {
   "cell_type": "code",
   "execution_count": 16,
   "metadata": {
    "collapsed": false
   },
   "outputs": [],
   "source": [
    "import matplotlib.pyplot as plt\n",
    "plt.style.use('ggplot')\n",
    "%matplotlib inline\n"
   ]
  },
  {
   "cell_type": "code",
   "execution_count": 62,
   "metadata": {
    "collapsed": false
   },
   "outputs": [
    {
     "data": {
      "text/plain": [
       "array(['job_title', 'employer', 'origin', 'location', 'salary', 'job_type',\n",
       "       'job_description', 'job_description_words', 'python', 'java',\n",
       "       'perl', 'r', 'fortran', 'sql', 'html', 'css', 'javascript', 'c',\n",
       "       'c++', 'c#', 'bioinformatician', 'bioinformatics'], dtype=object)"
      ]
     },
     "execution_count": 62,
     "metadata": {},
     "output_type": "execute_result"
    }
   ],
   "source": [
    "df.columns.values"
   ]
  },
  {
   "cell_type": "code",
   "execution_count": 64,
   "metadata": {
    "collapsed": false
   },
   "outputs": [
    {
     "data": {
      "text/plain": [
       "116"
      ]
     },
     "execution_count": 64,
     "metadata": {},
     "output_type": "execute_result"
    }
   ],
   "source": [
    "len(df[df.duplicated(subset=['job_title', 'employer', 'salary'])==True])"
   ]
  },
  {
   "cell_type": "code",
   "execution_count": null,
   "metadata": {
    "collapsed": true
   },
   "outputs": [],
   "source": []
  },
  {
   "cell_type": "markdown",
   "metadata": {},
   "source": [
    "# Question 1: Which programming languages are mentioned most in job ads for bioinformaticians?"
   ]
  },
  {
   "cell_type": "code",
   "execution_count": 65,
   "metadata": {
    "collapsed": false
   },
   "outputs": [
    {
     "data": {
      "text/plain": [
       "<matplotlib.axes._subplots.AxesSubplot at 0x7f0f186a2668>"
      ]
     },
     "execution_count": 65,
     "metadata": {},
     "output_type": "execute_result"
    },
    {
     "data": {
      "image/png": "[encoded data removed]",
      "text/plain": [
       "<matplotlib.figure.Figure at 0x7f0f1186e9e8>"
      ]
     },
     "metadata": {},
     "output_type": "display_data"
    }
   ],
   "source": [
    "bioinformatician = df.loc[df['job_type'] == 'Bioinformatician']\n",
    "bio = bioinformatician[['java', 'python', 'perl', 'r', \n",
    "                        'fortran','sql', 'javascript', 'c++', 'c', 'c#']]\n",
    "\n",
    "mentioned_bioinf = df.loc[df['bioinformatics']]\n",
    "mentioned_bioinf = mentioned_bioinf[['java', 'python', 'perl', 'r', \n",
    "                        'fortran','sql', 'javascript', 'c++', 'c', 'c#']]\n",
    "\n",
    "#print(bioinformatician.ix[262][['job_description']])\n",
    "#print(bioinformatician.loc[26, 'job_description'])\n",
    "\n",
    "all_jobs = df[['java', 'python', 'perl', 'r', \n",
    "               'fortran', 'javascript', 'c++', 'c', 'c#','sql']]\n",
    "\n",
    "plotframe = pd.concat([bio.sum()/len(bio),\n",
    "                       mentioned_bioinf.sum()/len(mentioned_bioinf),\n",
    "                       all_jobs.sum()/len(all_jobs)], axis=1)\n",
    "\n",
    "plotframe.set_index(bio.sum().index)\n",
    "plotframe = plotframe.rename(index = str, columns={0:'Bioinformaticians',\n",
    "                                                   1:'Mentioned',\n",
    "                                                   2:'All'})\n",
    "plotframe.plot(kind='bar')"
   ]
  },
  {
   "cell_type": "code",
   "execution_count": null,
   "metadata": {
    "collapsed": false
   },
   "outputs": [],
   "source": [
    "df['sql']"
   ]
  }
 ],
 "metadata": {
  "kernelspec": {
   "display_name": "Python 3",
   "language": "python",
   "name": "python3"
  },
  "language_info": {
   "codemirror_mode": {
    "name": "ipython",
    "version": 3
   },
   "file_extension": ".py",
   "mimetype": "text/x-python",
   "name": "python",
   "nbconvert_exporter": "python",
   "pygments_lexer": "ipython3",
   "version": "3.5.2"
  }
 },
 "nbformat": 4,
 "nbformat_minor": 1
}
