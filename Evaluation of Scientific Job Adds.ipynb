{
 "cells": [
  {
   "cell_type": "code",
   "execution_count": 1,
   "metadata": {
    "collapsed": true
   },
   "outputs": [],
   "source": [
    "# Functions"
   ]
  },
  {
   "cell_type": "code",
   "execution_count": 2,
   "metadata": {
    "collapsed": false
   },
   "outputs": [],
   "source": [
    "def get_words(line):\n",
    "    r'''\n",
    "    This function takes a text and returns\n",
    "    a list of lowercase words. It removes all digits\n",
    "    and strips punctuation characters from the words.\n",
    "    \n",
    "    >>> get_words('Here are severall1000 words!\\n Blub')\n",
    "    ['here', 'are', 'severall', 'words', 'blub']\n",
    "    \n",
    "    >>> get_words('\"Where are they? 10 \\t 1000!?\"')\n",
    "    ['where', 'are', 'they']\n",
    "    \n",
    "    >>> get_words('\\t\\t\\t\\r\\r\\r\\n<ada> hallo12 \\r\\t\\t\\t\\t')\n",
    "    ['ada', 'hallo']\n",
    "    \n",
    "    '''\n",
    "    import re\n",
    "    line = re.sub('\\s*[\\r\\t]+','',line)\n",
    "    line = line.lower()\n",
    "    line = re.sub('[^+#a-z\\s\\'-]+','',line)\n",
    "\n",
    "    \n",
    "    words = line.split()\n",
    "    return words\n",
    "\n",
    "if __name__ == '__main__':\n",
    "    import doctest\n",
    "    doctest.testmod()"
   ]
  },
  {
   "cell_type": "markdown",
   "metadata": {},
   "source": [
    "# Data Import"
   ]
  },
  {
   "cell_type": "code",
   "execution_count": 3,
   "metadata": {
    "collapsed": false,
    "scrolled": true
   },
   "outputs": [],
   "source": [
    "import pandas as pd\n",
    "import json\n",
    "from collections import Counter\n",
    "\n",
    "# Columns which shall be kept from the downloaded data\n",
    "columns = ['job_title', 'employer', 'origin', 'location',\n",
    "           'salary', 'job_type', 'job_description',]\n",
    "\n",
    "# Keywords to check for in the job description. Each keyword \n",
    "# gets its own column with True and False values.\n",
    "languages = ['python', 'java', 'perl', 'r', 'sql', 'ruby', \n",
    "             'c++', 'c', 'c#', 'html', 'css', 'javascript', \n",
    "             'fortran', 'git', 'github']\n",
    "\n",
    "informatician = ['bioinformatician', 'bioinformatics']\n",
    "\n",
    "#keywords for later duplicate deleting\n",
    "duplicate_pattern = ['researcher', 'details', 'skills', 'successful',\n",
    "                     'program', 'expected', 'strong']\n",
    "\n",
    "#List of programming related words, later used to check if job offer\n",
    "#is programming related / involves programming\n",
    "prog_related = ['programming', 'programing', 'code', 'coding', \n",
    "                'computational', 'programming-language', 'script',\n",
    "                'scripting', 'script-language', 'informatics'\n",
    "               ]\n",
    "\n",
    "# load nature jobs\n",
    "with open('ls_jobs/nature_jobs.json', 'r') as myfile:\n",
    "    nature_jobs = json.load(myfile)\n",
    "\n",
    "# load science jobs\n",
    "with open('ls_jobs/science_jobs.json', 'r') as myfile:\n",
    "    science_jobs = json.load(myfile)\n",
    "\n",
    "# Count words and add an orign entry to the science data\n",
    "for entry in science_jobs:\n",
    "    entry['job_description_words'] = Counter(get_words(entry['job_description']))\n",
    "    entry['origin'] = 'science'\n",
    "\n",
    "# Count words and add an orign entry to the nature data\n",
    "for entry in nature_jobs:\n",
    "    entry['job_description_words'] = Counter(get_words(entry['job_description']))\n",
    "    entry['origin'] = 'nature'\n",
    "\n",
    "# Combine the job data from science and nature\n",
    "job_data = science_jobs+nature_jobs\n",
    "\n",
    "# Add the entries for the keywords\n",
    "for entry in job_data:\n",
    "    for keyword in (languages + informatician + duplicate_pattern):\n",
    "        if keyword in entry['job_description_words'].keys():\n",
    "            entry[keyword] = entry['job_description_words'][keyword]\n",
    "        else:\n",
    "            entry[keyword] = 0\n",
    "    #check if job offer is programming related, if so set to True\n",
    "    for prog_word in (prog_related + languages + informatician):\n",
    "        if prog_word in entry['job_description_words'] or 'Bioinformatic' in entry['job_type']:\n",
    "            entry['programming_related'] = True\n",
    "            break\n",
    "        else:\n",
    "            entry['programming_related'] = False\n",
    "\n",
    "# Read the data into a dataframe and select the specified columns\n",
    "df = pd.DataFrame(job_data)\n",
    "#only keep specific columns (entries of the added lists)\n",
    "df = df[(columns + ['programming_related'] + languages +\n",
    "        duplicate_pattern + informatician)]\n",
    "\n",
    "#df['successful'][:10]\n",
    "#df[df['job_type'].str.contains('Bioinformatic')]\n",
    "#df['job_type'][df['origin']=='science']"
   ]
  },
  {
   "cell_type": "markdown",
   "metadata": {},
   "source": [
    "# Inspect data"
   ]
  },
  {
   "cell_type": "code",
   "execution_count": 4,
   "metadata": {
    "collapsed": false
   },
   "outputs": [
    {
     "name": "stdout",
     "output_type": "stream",
     "text": [
      "Dataset before duplicate reduction\n",
      "Total Number of job offers/entries:\n",
      "3032\n",
      "Number of job offers/entries from Science:\n",
      "1041\n",
      "Number of job offers/entries from Nature:\n",
      "1991\n"
     ]
    }
   ],
   "source": [
    "#get and print number of entries in dataset pre duplicate deletion\n",
    "print('Dataset before duplicate reduction')\n",
    "print('Total Number of job offers/entries:')\n",
    "entries_pre_del = len(df)\n",
    "print(entries_pre_del)\n",
    "print('Number of job offers/entries from Science:')\n",
    "sci_entries_pre_del = len(df[df['origin']=='science'])\n",
    "print(sci_entries_pre_del)\n",
    "print('Number of job offers/entries from Nature:')\n",
    "nat_entries_pre_del = len(df[df['origin']=='nature'])\n",
    "print(nat_entries_pre_del)"
   ]
  },
  {
   "cell_type": "markdown",
   "metadata": {},
   "source": [
    "## Remove duplicates"
   ]
  },
  {
   "cell_type": "markdown",
   "metadata": {},
   "source": [
    "Here we remove duplicates by two different approaches. First we remove all rows from our pandas DataFrame which are not unique. A row is unique if there is no other row which has the same values in every column. "
   ]
  },
  {
   "cell_type": "code",
   "execution_count": 5,
   "metadata": {
    "collapsed": false
   },
   "outputs": [],
   "source": [
    "#remove completly identical entries\n",
    "df[df.duplicated()==True]\n",
    "df = df[df.duplicated()==False]"
   ]
  },
  {
   "cell_type": "code",
   "execution_count": 6,
   "metadata": {
    "collapsed": false
   },
   "outputs": [],
   "source": [
    "#delete entries which seem to be duplicates \n",
    "#according to the word occurences\n",
    "df = df[df.duplicated(subset=['job_title', 'employer',\n",
    "                           'researcher', 'details',\n",
    "                           'skills', 'successful',\n",
    "                           'program', 'expected',\n",
    "                           'strong'])==False]"
   ]
  },
  {
   "cell_type": "code",
   "execution_count": 7,
   "metadata": {
    "collapsed": false
   },
   "outputs": [
    {
     "name": "stdout",
     "output_type": "stream",
     "text": [
      "Dataset after duplicate reduction\n",
      "Total Number of job offers/entries:\n",
      "2956\n",
      "Number of job offers/entries from Science:\n",
      "1022\n",
      "Number of job offers/entries from Nature:\n",
      "1934\n"
     ]
    }
   ],
   "source": [
    "#get and print number of entries in dataset post duplicate deletion\n",
    "print('Dataset after duplicate reduction')\n",
    "print('Total Number of job offers/entries:')\n",
    "print(len(df))\n",
    "print('Number of job offers/entries from Science:')\n",
    "print(len(df[df['origin']=='science']))\n",
    "print('Number of job offers/entries from Nature:')\n",
    "print(len(df[df['origin']=='nature']))"
   ]
  },
  {
   "cell_type": "code",
   "execution_count": 8,
   "metadata": {
    "collapsed": false,
    "scrolled": true
   },
   "outputs": [
    {
     "name": "stdout",
     "output_type": "stream",
     "text": [
      "Number of jobs associated with bioinformatics:\n",
      "133\n",
      "421\n"
     ]
    }
   ],
   "source": [
    "\n",
    "jtype_binf = len(df[(df['job_type'].str.contains('Bioinformatic')) |\n",
    "                (df['job_type'].str.contains('bioinformatic'))])\n",
    "\n",
    "print('Number of jobs associated with bioinformatics:')\n",
    "print(jtype_binf)\n",
    "\n",
    "print(len(df[(df['bioinformatics']>0) |\n",
    "             (df['bioinformatician']>0) |\n",
    "             (df['job_type'].str.contains('Bioinformatic'))]))"
   ]
  },
  {
   "cell_type": "code",
   "execution_count": 9,
   "metadata": {
    "collapsed": false
   },
   "outputs": [
    {
     "name": "stdout",
     "output_type": "stream",
     "text": [
      "90\n"
     ]
    }
   ],
   "source": [
    "x = df[(df['bioinformatics']>0) |\n",
    "       (df['bioinformatician']>0)]\n",
    "\n",
    "print(len(x[(x['job_type'].str.contains('Bioinformatic'))]))"
   ]
  },
  {
   "cell_type": "markdown",
   "metadata": {},
   "source": [
    "# Question 1: Which programming languages are mentioned most often in job ads for bioinformaticians?"
   ]
  },
  {
   "cell_type": "code",
   "execution_count": 10,
   "metadata": {
    "collapsed": true
   },
   "outputs": [],
   "source": [
    "import matplotlib.pyplot as plt\n",
    "plt.style.use('ggplot')\n",
    "%matplotlib inline"
   ]
  },
  {
   "cell_type": "code",
   "execution_count": 11,
   "metadata": {
    "collapsed": false,
    "scrolled": false
   },
   "outputs": [
    {
     "data": {
      "image/png": "[encoded data removed]",
      "text/plain": [
       "<matplotlib.figure.Figure at 0x7f9cd0b5a278>"
      ]
     },
     "metadata": {},
     "output_type": "display_data"
    }
   ],
   "source": [
    "plot_data = df[languages]\n",
    "\n",
    "bioinf = plot_data.loc[(df['job_type'].str.contains('Bioinformatic')) |\n",
    "                                 (df['job_type'].str.contains('Chemoinformatic'))]\n",
    "\n",
    "\n",
    "mentioned_bioinf = plot_data[(df['bioinformatics']>0) |\n",
    "                             (df['bioinformatician']>0) |\n",
    "                             (df['job_type'].str.contains('Bioinformatic')) |\n",
    "                             (df['job_type'].str.contains('Chemoinformatic'))]\n",
    "\n",
    "all_jobs = plot_data\n",
    "\n",
    "plotframe = pd.concat([bioinf.sum()/len(bioinf),\n",
    "                       mentioned_bioinf.sum()/len(mentioned_bioinf),\n",
    "                       all_jobs.sum()/len(all_jobs)], axis=1)\n",
    "\n",
    "plotframe.set_index(plot_data.sum().index)\n",
    "plotframe = plotframe.rename(index = str, columns={0:'Bioinformaticians: '+str(len(bioinf)),\n",
    "                                                   1:'Bioinf. mentioned: '+str(len(mentioned_bioinf)),\n",
    "                                                   2:'All: '+str(len(all_jobs))})\n",
    "ax = plotframe.plot(kind='bar', figsize=(12, 5))"
   ]
  },
  {
   "cell_type": "code",
   "execution_count": null,
   "metadata": {
    "collapsed": false
   },
   "outputs": [],
   "source": []
  },
  {
   "cell_type": "markdown",
   "metadata": {},
   "source": [
    "# Programming in Biology"
   ]
  },
  {
   "cell_type": "markdown",
   "metadata": {},
   "source": [
    "## How many job offers are programming related?"
   ]
  },
  {
   "cell_type": "code",
   "execution_count": 12,
   "metadata": {
    "collapsed": false
   },
   "outputs": [
    {
     "name": "stdout",
     "output_type": "stream",
     "text": [
      "0.332882273342\n",
      "0.667117726658\n"
     ]
    }
   ],
   "source": [
    "#subsample programming related column\n",
    "data_prj = df['programming_related']\n",
    "\n",
    "#get programming related jobs and not programming related jobs\n",
    "prog_rel_jobs = sum(data_prj)/len(data_prj)\n",
    "no_prog_rel_jobs = 1 - prog_rel_jobs\n",
    "\n",
    "\"\"\"\n",
    "#code for plotting\n",
    "#plotting doesn't really make sense. no information gain and not \n",
    "#easier to explain stuff with plot. hard numbers say enough\n",
    "ax = plt.subplot()\n",
    "ax.set_xticks = [0, 0.5, 1, 1.5]\n",
    "ax.set_yticks([0, 0.2, 0.4, 0.6, 0.8, 1])\n",
    "ax.set_ylim([0,1])\n",
    "ax.set_xticklabels(['', 'programming_related', '' ,'not_related'])\n",
    "ax.bar(0.5, prog_rel_jobs, width = 0.5)\n",
    "ax.bar(1, no_prog_rel_jobs, width = 0.5)\n",
    "\n",
    "plt.show()\n",
    "\"\"\"\n",
    "print(prog_rel_jobs)\n",
    "print(no_prog_rel_jobs)"
   ]
  },
  {
   "cell_type": "markdown",
   "metadata": {},
   "source": [
    "# Which languages are mentioned together"
   ]
  },
  {
   "cell_type": "markdown",
   "metadata": {},
   "source": [
    "CHECK FOR CORRELATION BETWEN LANGUAGE OCCURANCES"
   ]
  },
  {
   "cell_type": "code",
   "execution_count": 13,
   "metadata": {
    "collapsed": false
   },
   "outputs": [
    {
     "data": {
      "text/plain": [
       "(0.5890735957911547, 1.1008362062599692e-40)"
      ]
     },
     "execution_count": 13,
     "metadata": {},
     "output_type": "execute_result"
    }
   ],
   "source": [
    "from scipy.stats.stats import pearsonr\n",
    "#man muss sich nochmal angucken,\n",
    "#was genau die pearson cor macht\n",
    "#population eingrenzen\n",
    "\n",
    "pearsonr(mentioned_bioinf['r'], mentioned_bioinf['python'])"
   ]
  },
  {
   "cell_type": "code",
   "execution_count": 15,
   "metadata": {
    "collapsed": false
   },
   "outputs": [
    {
     "data": {
      "text/plain": [
       "<matplotlib.axes._subplots.AxesSubplot at 0x7f9cbecfc1d0>"
      ]
     },
     "execution_count": 15,
     "metadata": {},
     "output_type": "execute_result"
    },
    {
     "data": {
      "image/png": "[encoded data removed]",
      "text/plain": [
       "<matplotlib.figure.Figure at 0x7f9cc05a6898>"
      ]
     },
     "metadata": {},
     "output_type": "display_data"
    }
   ],
   "source": [
    "import seaborn as sns\n",
    "\n",
    "# Compute the correlation between all languages\n",
    "lang_corr_m = mentioned_bioinf.corr(method='pearson')\n",
    "lang_corr_b = bioinf.corr(method='pearson')\n",
    "lang_corr_a = all_jobs.corr(method='pearson')\n",
    "\n",
    "# Set up the matplotlib figure\n",
    "f, axes = plt.subplots(1,3, figsize=(18, 6))\n",
    "f.tight_layout()\n",
    "\n",
    "# Draw the heatmap using seaborn\n",
    "sns.heatmap(lang_corr_m, ax = axes[0], vmin = 0, cbar = False, square=True)\n",
    "sns.heatmap(lang_corr_b, ax = axes[1], vmin = 0, cbar = False, square=True)\n",
    "sns.heatmap(lang_corr_a, ax = axes[2], vmin = 0, cbar = False, square=True)"
   ]
  }
 ],
 "metadata": {
  "kernelspec": {
   "display_name": "Python 3",
   "language": "python",
   "name": "python3"
  },
  "language_info": {
   "codemirror_mode": {
    "name": "ipython",
    "version": 3
   },
   "file_extension": ".py",
   "mimetype": "text/x-python",
   "name": "python",
   "nbconvert_exporter": "python",
   "pygments_lexer": "ipython3",
   "version": "3.5.2"
  }
 },
 "nbformat": 4,
 "nbformat_minor": 1
}
